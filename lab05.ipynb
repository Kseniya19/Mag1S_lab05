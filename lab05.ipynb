{
 "cells": [
  {
   "cell_type": "code",
   "execution_count": 1,
   "id": "ebc77ff3",
   "metadata": {},
   "outputs": [],
   "source": [
    "import random\n",
    "def Ferma(n, count):\n",
    "    for i in range(count):\n",
    "        a = random.randint(2, n-1)\n",
    "        if (a**(n-1) % n != 1):\n",
    "            print(\"Число составное\")\n",
    "            return False\n",
    "    print(\"Число, вероятно, простое\")\n",
    "    return True"
   ]
  },
  {
   "cell_type": "code",
   "execution_count": 2,
   "id": "fbd2af47",
   "metadata": {},
   "outputs": [],
   "source": [
    "def Jacob(a, n):\n",
    "    g = 1\n",
    "    if (a == 0):\n",
    "        return 0\n",
    "    if (a == 1):\n",
    "        return g\n",
    "    while (a):\n",
    "        while(a % 2 == 0):\n",
    "            a = a // 2\n",
    "            if (n % 8 == 1 or n % 8 == 3):\n",
    "                g = -g\n",
    "        a, n = n, a\n",
    "        if (a % 4 == 3 and n % 4 == 3):\n",
    "            g = -g\n",
    "        a = a % n\n",
    "        if (a > n // 2):\n",
    "            a -= n\n",
    "    if (n == 1):\n",
    "        return g\n",
    "    return 0\n",
    "\n",
    "def modul(num, deg, mod):\n",
    "    x = 1\n",
    "    y = num\n",
    "    while (deg > 0):\n",
    "        if (deg % 2 == 1):\n",
    "            x = (x*y) % mod\n",
    "        y = (y*y) % mod\n",
    "        deg = deg // 2\n",
    "    return x % mod"
   ]
  },
  {
   "cell_type": "code",
   "execution_count": 8,
   "id": "ed5dbf82",
   "metadata": {},
   "outputs": [],
   "source": [
    "def SolStras(r, count):\n",
    "    if (r < 2):\n",
    "        print(\"Число составное\")\n",
    "        return False\n",
    "    if (r != 2 and r % 2 == 0):\n",
    "        print(\"Число составное\")\n",
    "        return False\n",
    "    for i in range(count):\n",
    "        a = random.randrange(r - 1) + 1\n",
    "    s = (r + Jacob(a, n)) % r\n",
    "    mod = modul(a, (r - 1) / 2, r)\n",
    "    if (s == 0 or mod != s):\n",
    "        print(\"Число составное\")\n",
    "        return False\n",
    "    else:\n",
    "        print(\"Число, вероятно, простое\")\n",
    "    return True"
   ]
  },
  {
   "cell_type": "code",
   "execution_count": 4,
   "id": "7d959dde",
   "metadata": {},
   "outputs": [],
   "source": [
    "def MilRab(n):\n",
    "    if n != int(n):\n",
    "        print(\"Число составное\")\n",
    "        return False\n",
    "    n = int(n)\n",
    "    if n == 0 or n == 1 or n == 4 or n == 6 or n == 8 or n == 9:\n",
    "        print(\"Число составное\")\n",
    "        return False\n",
    "    if n == 2 or n == 3 or n == 5 or n == 7:\n",
    "        print(\"Число, вероятно, простое\")\n",
    "        return True\n",
    "    s = 0\n",
    "    r = n - 1\n",
    "    while r % 2 == 0:\n",
    "        r >>= 1\n",
    "        s += 1\n",
    "    assert(2**s * r == n - 1)\n",
    "    \n",
    "    def prob(a):\n",
    "        if pow(a, r, n) == 1:\n",
    "            print(\"Число составное\")\n",
    "            return False\n",
    "        for i in range(s):\n",
    "            if pow(a, 2**i * r, n) == n - 1:\n",
    "                print(\"Число составное\")\n",
    "                return False\n",
    "        print(\"Число, вероятно, простое\")\n",
    "        return True\n",
    "    \n",
    "    for i in range(8):\n",
    "        a = random.randrange(2, n)\n",
    "        if prob(a):\n",
    "            print(\"Число составное\")\n",
    "            return False\n",
    "    print(\"Число, вероятно, простое\")\n",
    "    return True"
   ]
  },
  {
   "cell_type": "code",
   "execution_count": 5,
   "id": "a717a3e1",
   "metadata": {},
   "outputs": [],
   "source": [
    "n = 1909"
   ]
  },
  {
   "cell_type": "code",
   "execution_count": 6,
   "id": "3f4293b5",
   "metadata": {},
   "outputs": [
    {
     "name": "stdout",
     "output_type": "stream",
     "text": [
      "Число составное\n"
     ]
    },
    {
     "data": {
      "text/plain": [
       "False"
      ]
     },
     "execution_count": 6,
     "metadata": {},
     "output_type": "execute_result"
    }
   ],
   "source": [
    "Ferma(n, 1000)"
   ]
  },
  {
   "cell_type": "code",
   "execution_count": 9,
   "id": "7fb6235f",
   "metadata": {},
   "outputs": [
    {
     "name": "stdout",
     "output_type": "stream",
     "text": [
      "Число составное\n"
     ]
    },
    {
     "data": {
      "text/plain": [
       "False"
      ]
     },
     "execution_count": 9,
     "metadata": {},
     "output_type": "execute_result"
    }
   ],
   "source": [
    "SolStras(n, 1000)"
   ]
  },
  {
   "cell_type": "code",
   "execution_count": 10,
   "id": "13af38c4",
   "metadata": {},
   "outputs": [
    {
     "name": "stdout",
     "output_type": "stream",
     "text": [
      "Число, вероятно, простое\n",
      "Число составное\n"
     ]
    },
    {
     "data": {
      "text/plain": [
       "False"
      ]
     },
     "execution_count": 10,
     "metadata": {},
     "output_type": "execute_result"
    }
   ],
   "source": [
    "MilRab(n)"
   ]
  },
  {
   "cell_type": "code",
   "execution_count": 11,
   "id": "5c81759d",
   "metadata": {},
   "outputs": [],
   "source": [
    "n = 1901"
   ]
  },
  {
   "cell_type": "code",
   "execution_count": 12,
   "id": "655116b5",
   "metadata": {},
   "outputs": [
    {
     "name": "stdout",
     "output_type": "stream",
     "text": [
      "Число, вероятно, простое\n"
     ]
    },
    {
     "data": {
      "text/plain": [
       "True"
      ]
     },
     "execution_count": 12,
     "metadata": {},
     "output_type": "execute_result"
    }
   ],
   "source": [
    "Ferma(n, 1000)"
   ]
  },
  {
   "cell_type": "code",
   "execution_count": 13,
   "id": "9c23fa30",
   "metadata": {},
   "outputs": [
    {
     "name": "stdout",
     "output_type": "stream",
     "text": [
      "Число, вероятно, простое\n"
     ]
    },
    {
     "data": {
      "text/plain": [
       "True"
      ]
     },
     "execution_count": 13,
     "metadata": {},
     "output_type": "execute_result"
    }
   ],
   "source": [
    "SolStras(n, 1000)"
   ]
  },
  {
   "cell_type": "code",
   "execution_count": 14,
   "id": "629379b0",
   "metadata": {},
   "outputs": [
    {
     "name": "stdout",
     "output_type": "stream",
     "text": [
      "Число составное\n",
      "Число составное\n",
      "Число составное\n",
      "Число составное\n",
      "Число составное\n",
      "Число составное\n",
      "Число составное\n",
      "Число составное\n",
      "Число, вероятно, простое\n"
     ]
    },
    {
     "data": {
      "text/plain": [
       "True"
      ]
     },
     "execution_count": 14,
     "metadata": {},
     "output_type": "execute_result"
    }
   ],
   "source": [
    "MilRab(n)"
   ]
  },
  {
   "cell_type": "code",
   "execution_count": null,
   "id": "f8203e73",
   "metadata": {},
   "outputs": [],
   "source": []
  }
 ],
 "metadata": {
  "kernelspec": {
   "display_name": "Python 3 (ipykernel)",
   "language": "python",
   "name": "python3"
  },
  "language_info": {
   "codemirror_mode": {
    "name": "ipython",
    "version": 3
   },
   "file_extension": ".py",
   "mimetype": "text/x-python",
   "name": "python",
   "nbconvert_exporter": "python",
   "pygments_lexer": "ipython3",
   "version": "3.9.13"
  }
 },
 "nbformat": 4,
 "nbformat_minor": 5
}
